{
 "cells": [
  {
   "cell_type": "code",
   "execution_count": null,
   "id": "9ab729af",
   "metadata": {},
   "outputs": [],
   "source": [
    "import matplotlib.patches as mpatches\n",
    "import matplotlib.pyplot as plt\n",
    "import numpy as np\n",
    "import pandas as pd\n",
    "import seaborn as sns"
   ]
  },
  {
   "cell_type": "code",
   "execution_count": null,
   "id": "020ba29a",
   "metadata": {},
   "outputs": [],
   "source": [
    "from pysolotools.consumers.solo import Solo\n",
    "from pysolotools.stats.analyzers.image_analysis_analyzer import (\n",
    "    LaplacianStatsAnalyzer,\n",
    "    PowerSpectrumStatsAnalyzer,\n",
    "    WaveletTransformStatsAnalyzer,\n",
    ")\n",
    "from pysolotools.stats.analyzers.bbox_analyzer import (\n",
    "    BBoxHeatMapStatsAnalyzer,\n",
    "    BBoxSizeStatsAnalyzer,\n",
    "    BBoxCountStatsAnalyzer\n",
    ")\n",
    "from pysolotools.stats.handler import StatsHandler"
   ]
  },
  {
   "cell_type": "markdown",
   "id": "f579f322",
   "metadata": {},
   "source": [
    "#### Initialize SOLO object"
   ]
  },
  {
   "cell_type": "code",
   "execution_count": null,
   "outputs": [],
   "source": [
    "data_dir_path = \"<SOLO-DATASET-PATH>\"\n",
    "solo = Solo(data_dir_path)"
   ],
   "metadata": {
    "collapsed": false
   }
  },
  {
   "cell_type": "markdown",
   "source": [
    "## Object Detection Stats"
   ],
   "metadata": {
    "collapsed": false
   }
  },
  {
   "cell_type": "code",
   "execution_count": null,
   "outputs": [],
   "source": [
    "bbox_count_analyzer = BBoxCountStatsAnalyzer(solo)\n",
    "bbox_size_analyzer = BBoxSizeStatsAnalyzer()\n",
    "bbox_hmap_analyzer = BBoxHeatMapStatsAnalyzer()"
   ],
   "metadata": {
    "collapsed": false
   }
  },
  {
   "cell_type": "code",
   "execution_count": null,
   "id": "be0ba3b4",
   "metadata": {},
   "outputs": [],
   "source": [
    "stats_handler = StatsHandler(solo)\n",
    "result = stats_handler.handle([bbox_count_analyzer, bbox_hmap_analyzer, bbox_size_analyzer])"
   ]
  },
  {
   "cell_type": "markdown",
   "source": [
    "### SOLO Metadata"
   ],
   "metadata": {
    "collapsed": false
   }
  },
  {
   "cell_type": "code",
   "execution_count": null,
   "outputs": [],
   "source": [
    "print(f'Total Sequences: {solo.metadata.totalSequences}')\n",
    "print(f'Total Frames: {solo.metadata.totalFrames}')\n",
    "print(f'Frames Per Sequence: {solo.metadata.totalFrames / solo.metadata.totalSequences}')"
   ],
   "metadata": {
    "collapsed": false
   }
  },
  {
   "cell_type": "markdown",
   "source": [
    "#### Categories in Dataset"
   ],
   "metadata": {
    "collapsed": false
   }
  },
  {
   "cell_type": "code",
   "execution_count": null,
   "outputs": [],
   "source": [
    "categories = solo.categories()\n",
    "categories_df = pd.DataFrame.from_dict(categories, orient=\"index\")\n",
    "categories_df.columns = ['Label']\n",
    "categories_df"
   ],
   "metadata": {
    "collapsed": false
   }
  },
  {
   "cell_type": "code",
   "execution_count": null,
   "outputs": [],
   "source": [
    "#### Objects in Dataset"
   ],
   "metadata": {
    "collapsed": false
   }
  },
  {
   "cell_type": "code",
   "execution_count": null,
   "outputs": [],
   "source": [
    "bbox_counts = result[\"BBoxCountStatsAnalyzer\"]\n",
    "print(f'Total count of objects in dataset: {bbox_counts.get_total_count()}')\n",
    "\n",
    "end = min(20, solo.metadata.totalFrames)\n",
    "frame_list = list(range(2, end))\n",
    "\n",
    "frame_counts = bbox_counts.get_count_per_frame(frame_list)\n",
    "\n",
    "x, y = frame_counts.keys(), frame_counts.values()\n",
    "fig, ax = plt.subplots(1, 1)\n",
    "ax.bar(x, y, width=1)\n",
    "ax.set_xlim(2, end)\n",
    "plt.xticks(frame_list)\n",
    "print(\"\\nObjects Per Frame:\")\n",
    "plt.show()\n"
   ],
   "metadata": {
    "collapsed": false
   }
  },
  {
   "cell_type": "code",
   "execution_count": null,
   "outputs": [],
   "source": [
    "k = list(categories.keys())\n",
    "frame_counts = bbox_counts.get_count_per_frame(frame_list, [k[0]])\n",
    "x, y = frame_counts.keys(), frame_counts.values()\n",
    "fig, ax = plt.subplots(1, 1)\n",
    "ax.bar(x, y, width=1)\n",
    "ax.set_xlim(2, end)\n",
    "plt.xticks(frame_list)\n",
    "print(f\"\\n{categories[k[0]]} Per Frame:\")\n",
    "plt.show()"
   ],
   "metadata": {
    "collapsed": false
   }
  },
  {
   "cell_type": "markdown",
   "source": [
    "### BBox Heatmap"
   ],
   "metadata": {
    "collapsed": false
   }
  },
  {
   "cell_type": "code",
   "execution_count": null,
   "id": "5916914b",
   "metadata": {},
   "outputs": [],
   "source": [
    "bbox_heatmap = result[\"BBoxHeatMapStatsAnalyzer\"]"
   ]
  },
  {
   "cell_type": "code",
   "execution_count": null,
   "id": "7c6e0916",
   "metadata": {},
   "outputs": [],
   "source": [
    "bbox_heatmap_norm = bbox_heatmap / bbox_heatmap.max()\n",
    "fig, ax = plt.subplots(dpi=100, figsize=(8,8))\n",
    "pcm = ax.imshow(bbox_heatmap_norm[:,:,0], cmap=\"plasma\", )\n",
    "plt.show()"
   ]
  },
  {
   "cell_type": "markdown",
   "id": "75507adf",
   "metadata": {},
   "source": [
    "### Bounding Box Size Distribution"
   ]
  },
  {
   "cell_type": "code",
   "execution_count": null,
   "id": "9ed245ec",
   "metadata": {},
   "outputs": [],
   "source": [
    "bbox_size_dist = result[\"BBoxSizeStatsAnalyzer\"]\n",
    "bbox_size = [[x, \"Synth\", 1/len(bbox_size_dist)] for x in bbox_size_dist]\n",
    "df = pd.DataFrame(bbox_size, columns =['val', 'type', 'w'])"
   ]
  },
  {
   "cell_type": "code",
   "execution_count": null,
   "outputs": [],
   "source": [
    "fig, ax = plt.subplots(dpi=80, figsize=(10,6))\n",
    "sns.histplot(data=df, x=\"val\", hue=\"type\", weights='w',\n",
    "             bins=50, multiple=\"layer\", alpha=.85, ax=ax, legend=None)\n",
    "\n",
    "# where some data has already been plotted to ax\n",
    "handles, labels = ax.get_legend_handles_labels()\n",
    "\n",
    "# manually define a new patch\n",
    "colors = plt.rcParams['axes.prop_cycle'].by_key()['color']\n",
    "patch1 = mpatches.Patch(color=colors[0], label='Synth')\n",
    "handles.append(patch1)\n",
    "\n",
    "\n",
    "plt.legend(handles=handles, fontsize=18)\n",
    "\n",
    "ax.set_xlabel(\"Bouding Box's relative size in an image\", fontsize=18)\n",
    "ax.set_ylabel(\"Bouding Box Probability\", fontsize=18)\n",
    "ax.yaxis.set_tick_params(labelsize=18)\n",
    "ax.xaxis.set_tick_params(labelsize=18)\n",
    "\n",
    "fig.tight_layout()\n",
    "\n",
    "plt.show()"
   ],
   "metadata": {
    "collapsed": false
   }
  },
  {
   "cell_type": "markdown",
   "source": [
    "#### Initialize Analyzers and Handler"
   ],
   "metadata": {
    "collapsed": false
   }
  },
  {
   "cell_type": "code",
   "execution_count": null,
   "outputs": [],
   "source": [
    "laplacian_analyzer = LaplacianStatsAnalyzer(solo)\n",
    "psd_analyzer = PowerSpectrumStatsAnalyzer(solo)\n",
    "wavelet_analyzer = WaveletTransformStatsAnalyzer(solo)"
   ],
   "metadata": {
    "collapsed": false
   }
  },
  {
   "cell_type": "code",
   "execution_count": null,
   "outputs": [],
   "source": [
    "stats_handler = StatsHandler(solo)\n",
    "result = stats_handler.handle([laplacian_analyzer, psd_analyzer, wavelet_analyzer])"
   ],
   "metadata": {
    "collapsed": false
   }
  },
  {
   "cell_type": "markdown",
   "source": [
    "## Image Analysis Stats"
   ],
   "metadata": {
    "collapsed": false
   }
  },
  {
   "cell_type": "code",
   "execution_count": null,
   "outputs": [],
   "source": [
    "bbox_var = result[\"LaplacianStatsAnalyzer\"][\"bbox_var\"]\n",
    "img_var = result[\"LaplacianStatsAnalyzer\"][\"img_var\"]"
   ],
   "metadata": {
    "collapsed": false
   }
  },
  {
   "cell_type": "markdown",
   "source": [
    "### Laplacian"
   ],
   "metadata": {
    "collapsed": false
   }
  },
  {
   "cell_type": "code",
   "execution_count": null,
   "outputs": [],
   "source": [
    "fig, ax = plt.subplots(dpi=80, figsize=(10,6))\n",
    "\n",
    "box = ax.boxplot(bbox_var,vert=0,patch_artist=True,labels=[\"Synth\"],\n",
    "                     showmeans=True, meanline=True, showfliers=False,)\n",
    "\n",
    "colors = plt.rcParams['axes.prop_cycle'].by_key()['color']\n",
    "box['boxes'][0].set_facecolor(colors[1])\n",
    "box['boxes'][0].set_alpha(0.50)\n",
    "\n",
    "box['medians'][0].set_color('black')\n",
    "box['means'][0].set_color('black')\n",
    "x, y = box['means'][0].get_xydata()[1]\n",
    "mean = np.array(bbox_var).mean()\n",
    "text = ' μ={:.2f}'.format(mean)\n",
    "ax.annotate(text, xy=(x, y+0.05), fontsize=15)\n",
    "\n",
    "plt.plot([], [], '--', linewidth=1, color='black', label='Mean')\n",
    "plt.plot([], [], '-', linewidth=1, color='black', label='Median')\n",
    "\n",
    "plt.legend(fontsize=15, loc=\"upper left\")\n",
    "\n",
    "plt.xticks(fontsize=15 )\n",
    "plt.yticks(fontsize=15 )\n",
    "plt.xscale('log')\n",
    "plt.xlabel(f\"Var of Laplacian of Background in log scale\", fontsize=18)\n",
    "plt.ylabel(\"Dataset\", fontsize=15)\n",
    "\n",
    "plt.show()"
   ],
   "metadata": {
    "collapsed": false
   }
  },
  {
   "cell_type": "markdown",
   "source": [
    "### Wavelet"
   ],
   "metadata": {
    "collapsed": false
   }
  },
  {
   "cell_type": "code",
   "execution_count": null,
   "outputs": [],
   "source": [
    "hist_list = []\n",
    "for coeff_type in [\"horizontal\", \"vertical\", \"diagonal\"]:\n",
    "    coeff = result[\"WaveletTransformStatsAnalyzer\"][coeff_type]\n",
    "    hist = plt.hist(coeff, bins=np.logspace(np.log10(max([min(coeff), np.finfo(float).eps])), np.log10(max(coeff))))\n",
    "    hist_list.append(hist)\n",
    "    plt.close()"
   ],
   "metadata": {
    "collapsed": false
   }
  },
  {
   "cell_type": "code",
   "execution_count": null,
   "outputs": [],
   "source": [
    "fig, ax = plt.subplots(dpi=80, figsize=(10,6))\n",
    "colors = iter(plt.rcParams['axes.prop_cycle'].by_key()['color'])\n",
    "for hist, hist_type in zip(hist_list, [\"horizontal\", \"vertical\",]):\n",
    "    norm_data = (hist[0] - min(hist[0]))/(max(hist[0])-min(hist[0]))\n",
    "    ax.plot(hist[1][1:],norm_data, linestyle='-',  label=hist_type, linewidth=3, color=next(colors))\n",
    "\n",
    "ax.set_xscale('log')\n",
    "\n",
    "plt.legend(loc=\"upper right\", fontsize=15)\n",
    "plt.xlabel(\"Var of cH in Log Scale\", fontsize=18)\n",
    "plt.ylabel(\"Density\", fontsize=18)\n",
    "plt.xticks(fontsize=18 )\n",
    "plt.yticks(fontsize=18 )\n",
    "\n",
    "plt.setp(ax.spines.values(), linewidth=2.5)\n",
    "\n",
    "plt.show()"
   ],
   "metadata": {
    "collapsed": false
   }
  },
  {
   "cell_type": "markdown",
   "source": [
    "### Power Spectrum"
   ],
   "metadata": {
    "collapsed": false
   }
  },
  {
   "cell_type": "code",
   "execution_count": null,
   "outputs": [],
   "source": [
    "psd_1d = np.nanmean(result[\"PowerSpectrumStatsAnalyzer\"], axis=0)"
   ],
   "metadata": {
    "collapsed": false
   }
  },
  {
   "cell_type": "code",
   "execution_count": null,
   "outputs": [],
   "source": [
    "fig, ax = plt.subplots(dpi=100)\n",
    "colors = (plt.rcParams['axes.prop_cycle'].by_key()['color'])\n",
    "ax.plot(psd_1d, color=colors[1], label=\"PSD\")\n",
    "\n",
    "plt.legend(fontsize=12)\n",
    "ax.set_xscale('log')\n",
    "ax.set_yscale('log')\n",
    "plt.ylabel(\"P(k)\", fontsize=15)\n",
    "plt.xlabel(\"k\", fontsize=15)\n",
    "plt.title(\"1D PSD\")\n",
    "plt.xlim([1, None])\n",
    "plt.show()"
   ],
   "metadata": {
    "collapsed": false
   }
  }
 ],
 "metadata": {
  "kernelspec": {
   "display_name": "Python 3 (ipykernel)",
   "language": "python",
   "name": "python3"
  },
  "language_info": {
   "codemirror_mode": {
    "name": "ipython",
    "version": 3
   },
   "file_extension": ".py",
   "mimetype": "text/x-python",
   "name": "python",
   "nbconvert_exporter": "python",
   "pygments_lexer": "ipython3",
   "version": "3.9.12"
  }
 },
 "nbformat": 4,
 "nbformat_minor": 5
}
